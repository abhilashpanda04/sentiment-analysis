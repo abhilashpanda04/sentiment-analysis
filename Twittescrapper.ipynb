{
 "cells": [
  {
   "cell_type": "code",
   "execution_count": 3,
   "metadata": {},
   "outputs": [
    {
     "name": "stderr",
     "output_type": "stream",
     "text": [
      "INFO: {'User-Agent': 'Mozilla/5.0 (Windows; U; Windows NT 6.1; rv:2.2) Gecko/20110201'}\n",
      "C:\\Users\\abhilash\\Anaconda3\\lib\\site-packages\\statsmodels\\tools\\_testing.py:19: FutureWarning: pandas.util.testing is deprecated. Use the functions in the public API at pandas.testing instead.\n",
      "  import pandas.util.testing as tm\n"
     ]
    }
   ],
   "source": [
    "import pandas as pd \n",
    "import datetime as dt \n",
    "from twitterscraper import query_tweets\n",
    "from vaderSentiment.vaderSentiment import SentimentIntensityAnalyzer\n",
    "from langdetect import detect \n",
    "import matplotlib.pyplot as plt\n",
    "import seaborn as sns\n",
    "import matplotlib.mlab as mlab"
   ]
  },
  {
   "cell_type": "code",
   "execution_count": 2,
   "metadata": {
    "collapsed": true
   },
   "outputs": [
    {
     "name": "stdout",
     "output_type": "stream",
     "text": [
      "Collecting twitterscraper\n",
      "  Downloading https://files.pythonhosted.org/packages/7f/0f/7cf31233d4f5616c971f6b1ae22dd73fe9a69430877f5c37a0e7b508a311/twitterscraper-1.4.0.tar.gz\n",
      "Collecting coala-utils~=0.5.0 (from twitterscraper)\n",
      "  Downloading https://files.pythonhosted.org/packages/54/00/74ec750cfc4e830f9d1cfdd4d559f3d2d4ba1b834b78d5266446db3fd1d6/coala_utils-0.5.1-py3-none-any.whl\n",
      "Requirement already satisfied: bs4 in c:\\users\\abhilash\\anaconda3\\lib\\site-packages (from twitterscraper) (0.0.1)\n",
      "Requirement already satisfied: lxml in c:\\users\\abhilash\\anaconda3\\lib\\site-packages (from twitterscraper) (4.3.4)\n",
      "Requirement already satisfied: requests in c:\\users\\abhilash\\anaconda3\\lib\\site-packages (from twitterscraper) (2.23.0)\n",
      "Collecting billiard (from twitterscraper)\n",
      "  Downloading https://files.pythonhosted.org/packages/e8/5e/7591866ff45b370354bd20291cb6f87ddb2eef1f1c88c890a38412037e11/billiard-3.6.3.0-py3-none-any.whl (89kB)\n",
      "Requirement already satisfied: beautifulsoup4 in c:\\users\\abhilash\\anaconda3\\lib\\site-packages (from bs4->twitterscraper) (4.7.1)\n",
      "Requirement already satisfied: idna<3,>=2.5 in c:\\users\\abhilash\\anaconda3\\lib\\site-packages (from requests->twitterscraper) (2.8)\n",
      "Requirement already satisfied: chardet<4,>=3.0.2 in c:\\users\\abhilash\\anaconda3\\lib\\site-packages (from requests->twitterscraper) (3.0.4)\n",
      "Requirement already satisfied: certifi>=2017.4.17 in c:\\users\\abhilash\\anaconda3\\lib\\site-packages (from requests->twitterscraper) (2019.6.16)\n",
      "Requirement already satisfied: urllib3!=1.25.0,!=1.25.1,<1.26,>=1.21.1 in c:\\users\\abhilash\\anaconda3\\lib\\site-packages (from requests->twitterscraper) (1.25.9)\n",
      "Requirement already satisfied: soupsieve>=1.2 in c:\\users\\abhilash\\anaconda3\\lib\\site-packages (from beautifulsoup4->bs4->twitterscraper) (1.8)\n",
      "Building wheels for collected packages: twitterscraper\n",
      "  Building wheel for twitterscraper (setup.py): started\n",
      "  Building wheel for twitterscraper (setup.py): finished with status 'done'\n",
      "  Stored in directory: C:\\Users\\abhilash\\AppData\\Local\\pip\\Cache\\wheels\\c2\\9c\\8b\\7393e7bdc8abe6ce0d46c2ffae2035a1a2080a97ff0ddbdde6\n",
      "Successfully built twitterscraper\n",
      "Installing collected packages: coala-utils, billiard, twitterscraper\n",
      "Successfully installed billiard-3.6.3.0 coala-utils-0.5.1 twitterscraper-1.4.0\n"
     ]
    }
   ],
   "source": [
    "!pip install twitterscraper"
   ]
  },
  {
   "cell_type": "code",
   "execution_count": 25,
   "metadata": {},
   "outputs": [],
   "source": [
    "def detector(x):\n",
    "    try:\n",
    "        returun(x)\n",
    "    except:\n",
    "        None"
   ]
  },
  {
   "cell_type": "code",
   "execution_count": 5,
   "metadata": {},
   "outputs": [],
   "source": [
    "analyzer = SentimentIntensityAnalyzer()"
   ]
  },
  {
   "cell_type": "code",
   "execution_count": 17,
   "metadata": {},
   "outputs": [],
   "source": [
    "begin_date= dt.date(2020,1,30)\n",
    "end_date= dt.date(2020,5,30)\n",
    "limit=100000\n",
    "lang = 'english'"
   ]
  },
  {
   "cell_type": "code",
   "execution_count": 46,
   "metadata": {},
   "outputs": [
    {
     "name": "stderr",
     "output_type": "stream",
     "text": [
      "INFO: queries: ['workfromhome since:2020-01-30 until:2020-02-05', 'workfromhome since:2020-02-05 until:2020-02-11', 'workfromhome since:2020-02-11 until:2020-02-17', 'workfromhome since:2020-02-17 until:2020-02-23', 'workfromhome since:2020-02-23 until:2020-02-29', 'workfromhome since:2020-02-29 until:2020-03-06', 'workfromhome since:2020-03-06 until:2020-03-12', 'workfromhome since:2020-03-12 until:2020-03-18', 'workfromhome since:2020-03-18 until:2020-03-24', 'workfromhome since:2020-03-24 until:2020-03-30', 'workfromhome since:2020-03-30 until:2020-04-05', 'workfromhome since:2020-04-05 until:2020-04-11', 'workfromhome since:2020-04-11 until:2020-04-17', 'workfromhome since:2020-04-17 until:2020-04-23', 'workfromhome since:2020-04-23 until:2020-04-29', 'workfromhome since:2020-04-29 until:2020-05-05', 'workfromhome since:2020-05-05 until:2020-05-11', 'workfromhome since:2020-05-11 until:2020-05-17', 'workfromhome since:2020-05-17 until:2020-05-23', 'workfromhome since:2020-05-23 until:2020-05-30']\n",
      "INFO: Got 501 tweets (501 new).\n",
      "INFO: Got 1011 tweets (510 new).\n",
      "INFO: Got 1519 tweets (508 new).\n",
      "INFO: Got 2027 tweets (508 new).\n",
      "INFO: Got 2531 tweets (504 new).\n",
      "INFO: Got 3033 tweets (502 new).\n",
      "INFO: Got 3536 tweets (503 new).\n",
      "INFO: Got 4044 tweets (508 new).\n",
      "INFO: Got 4554 tweets (510 new).\n",
      "INFO: Got 5066 tweets (512 new).\n",
      "INFO: Got 5570 tweets (504 new).\n",
      "INFO: Got 6083 tweets (513 new).\n",
      "INFO: Got 6596 tweets (513 new).\n",
      "INFO: Got 7113 tweets (517 new).\n",
      "INFO: Got 7624 tweets (511 new).\n",
      "INFO: Got 8141 tweets (517 new).\n",
      "INFO: Got 8647 tweets (506 new).\n",
      "INFO: Got 9154 tweets (507 new).\n",
      "INFO: Got 9668 tweets (514 new).\n",
      "INFO: Got 10185 tweets (517 new).\n"
     ]
    }
   ],
   "source": [
    "tweets = query_tweets('workfromhome', begindate = begin_date, enddate=end_date, limit = limit, lang = lang)"
   ]
  },
  {
   "cell_type": "code",
   "execution_count": 47,
   "metadata": {},
   "outputs": [],
   "source": [
    "tweets = pd.DataFrame(t.__dict__ for t in tweets)"
   ]
  },
  {
   "cell_type": "code",
   "execution_count": 26,
   "metadata": {},
   "outputs": [],
   "source": [
    "tweets['lang'] = tweets['text'].apply(lambda x:detector(x))\n",
    "tweets = tweets[tweets['lang'] == 'en']"
   ]
  },
  {
   "cell_type": "code",
   "execution_count": 50,
   "metadata": {},
   "outputs": [],
   "source": [
    "tweets.to_csv('tweets12.csv')"
   ]
  },
  {
   "cell_type": "code",
   "execution_count": 51,
   "metadata": {},
   "outputs": [],
   "source": [
    "covid19 = pd.read_csv('tweets12.csv') "
   ]
  },
  {
   "cell_type": "code",
   "execution_count": 52,
   "metadata": {
    "collapsed": true
   },
   "outputs": [
    {
     "ename": "AttributeError",
     "evalue": "'Series' object has no attribute 'text'",
     "output_type": "error",
     "traceback": [
      "\u001b[1;31m---------------------------------------------------------------------------\u001b[0m",
      "\u001b[1;31mAttributeError\u001b[0m                            Traceback (most recent call last)",
      "\u001b[1;32m<ipython-input-52-2aedda635440>\u001b[0m in \u001b[0;36m<module>\u001b[1;34m\u001b[0m\n\u001b[1;32m----> 1\u001b[1;33m \u001b[0mcovid19\u001b[0m\u001b[1;33m.\u001b[0m\u001b[0mtext\u001b[0m \u001b[1;33m=\u001b[0m \u001b[0mcovid19\u001b[0m\u001b[1;33m.\u001b[0m\u001b[0mtext\u001b[0m\u001b[1;33m.\u001b[0m\u001b[0mastype\u001b[0m\u001b[1;33m(\u001b[0m\u001b[0mstr\u001b[0m\u001b[1;33m)\u001b[0m\u001b[1;33m.\u001b[0m\u001b[0mtext\u001b[0m\u001b[1;33m\u001b[0m\u001b[1;33m\u001b[0m\u001b[0m\n\u001b[0m",
      "\u001b[1;32m~\\Anaconda3\\lib\\site-packages\\pandas\\core\\generic.py\u001b[0m in \u001b[0;36m__getattr__\u001b[1;34m(self, name)\u001b[0m\n\u001b[0;32m   5272\u001b[0m             \u001b[1;32mif\u001b[0m \u001b[0mself\u001b[0m\u001b[1;33m.\u001b[0m\u001b[0m_info_axis\u001b[0m\u001b[1;33m.\u001b[0m\u001b[0m_can_hold_identifiers_and_holds_name\u001b[0m\u001b[1;33m(\u001b[0m\u001b[0mname\u001b[0m\u001b[1;33m)\u001b[0m\u001b[1;33m:\u001b[0m\u001b[1;33m\u001b[0m\u001b[1;33m\u001b[0m\u001b[0m\n\u001b[0;32m   5273\u001b[0m                 \u001b[1;32mreturn\u001b[0m \u001b[0mself\u001b[0m\u001b[1;33m[\u001b[0m\u001b[0mname\u001b[0m\u001b[1;33m]\u001b[0m\u001b[1;33m\u001b[0m\u001b[1;33m\u001b[0m\u001b[0m\n\u001b[1;32m-> 5274\u001b[1;33m             \u001b[1;32mreturn\u001b[0m \u001b[0mobject\u001b[0m\u001b[1;33m.\u001b[0m\u001b[0m__getattribute__\u001b[0m\u001b[1;33m(\u001b[0m\u001b[0mself\u001b[0m\u001b[1;33m,\u001b[0m \u001b[0mname\u001b[0m\u001b[1;33m)\u001b[0m\u001b[1;33m\u001b[0m\u001b[1;33m\u001b[0m\u001b[0m\n\u001b[0m\u001b[0;32m   5275\u001b[0m \u001b[1;33m\u001b[0m\u001b[0m\n\u001b[0;32m   5276\u001b[0m     \u001b[1;32mdef\u001b[0m \u001b[0m__setattr__\u001b[0m\u001b[1;33m(\u001b[0m\u001b[0mself\u001b[0m\u001b[1;33m,\u001b[0m \u001b[0mname\u001b[0m\u001b[1;33m:\u001b[0m \u001b[0mstr\u001b[0m\u001b[1;33m,\u001b[0m \u001b[0mvalue\u001b[0m\u001b[1;33m)\u001b[0m \u001b[1;33m->\u001b[0m \u001b[1;32mNone\u001b[0m\u001b[1;33m:\u001b[0m\u001b[1;33m\u001b[0m\u001b[1;33m\u001b[0m\u001b[0m\n",
      "\u001b[1;31mAttributeError\u001b[0m: 'Series' object has no attribute 'text'"
     ]
    }
   ],
   "source": [
    "covid19.text = covid19.text.astype(str).text"
   ]
  },
  {
   "cell_type": "code",
   "execution_count": 53,
   "metadata": {},
   "outputs": [],
   "source": [
    "sentiment= covid19['text'].apply(lambda x: analyzer.polarity_scores(x))"
   ]
  },
  {
   "cell_type": "code",
   "execution_count": 54,
   "metadata": {},
   "outputs": [],
   "source": [
    "covid19 = pd.concat([covid19, sentiment.apply(pd.Series)],1)"
   ]
  },
  {
   "cell_type": "code",
   "execution_count": 55,
   "metadata": {},
   "outputs": [],
   "source": [
    "covid19.drop_duplicates(subset = 'text',inplace = True)"
   ]
  },
  {
   "cell_type": "code",
   "execution_count": 56,
   "metadata": {},
   "outputs": [
    {
     "data": {
      "text/plain": [
       "0.0258"
      ]
     },
     "execution_count": 56,
     "metadata": {},
     "output_type": "execute_result"
    },
    {
     "data": {
      "image/png": "[encoded data removed]",
      "text/plain": [
       "<Figure size 600x400 with 1 Axes>"
      ]
     },
     "metadata": {},
     "output_type": "display_data"
    }
   ],
   "source": [
    "covid19['compound'].hist()\n",
    "covid19['compound'].mean()\n",
    "covid19['compound'].median()"
   ]
  },
  {
   "cell_type": "code",
   "execution_count": 58,
   "metadata": {},
   "outputs": [
    {
     "data": {
      "text/plain": [
       "Text(0.5, 1.0, 'work rom home')"
      ]
     },
     "execution_count": 58,
     "metadata": {},
     "output_type": "execute_result"
    },
    {
     "data": {
      "image/png": "[encoded data removed]",
      "text/plain": [
       "<Figure size 600x400 with 1 Axes>"
      ]
     },
     "metadata": {},
     "output_type": "display_data"
    }
   ],
   "source": [
    "ax1 = sns.distplot(covid19['compound'], bins=15, hist = False, label = 'work rom home', color = 'r', kde_kws={'linestyle':'--'})\n",
    "\n",
    "plt.legend()\n",
    "plt.title('work rom home')"
   ]
  },
  {
   "cell_type": "code",
   "execution_count": null,
   "metadata": {},
   "outputs": [],
   "source": []
  },
  {
   "cell_type": "code",
   "execution_count": null,
   "metadata": {},
   "outputs": [],
   "source": []
  },
  {
   "cell_type": "code",
   "execution_count": null,
   "metadata": {},
   "outputs": [],
   "source": []
  },
  {
   "cell_type": "code",
   "execution_count": null,
   "metadata": {},
   "outputs": [],
   "source": []
  },
  {
   "cell_type": "code",
   "execution_count": null,
   "metadata": {},
   "outputs": [],
   "source": []
  },
  {
   "cell_type": "code",
   "execution_count": null,
   "metadata": {},
   "outputs": [],
   "source": []
  },
  {
   "cell_type": "code",
   "execution_count": null,
   "metadata": {},
   "outputs": [],
   "source": []
  },
  {
   "cell_type": "code",
   "execution_count": null,
   "metadata": {},
   "outputs": [],
   "source": []
  },
  {
   "cell_type": "code",
   "execution_count": null,
   "metadata": {},
   "outputs": [],
   "source": []
  },
  {
   "cell_type": "code",
   "execution_count": null,
   "metadata": {},
   "outputs": [],
   "source": []
  },
  {
   "cell_type": "code",
   "execution_count": null,
   "metadata": {},
   "outputs": [],
   "source": []
  },
  {
   "cell_type": "code",
   "execution_count": null,
   "metadata": {},
   "outputs": [],
   "source": []
  },
  {
   "cell_type": "code",
   "execution_count": null,
   "metadata": {},
   "outputs": [],
   "source": []
  },
  {
   "cell_type": "code",
   "execution_count": null,
   "metadata": {},
   "outputs": [],
   "source": []
  },
  {
   "cell_type": "code",
   "execution_count": null,
   "metadata": {},
   "outputs": [],
   "source": []
  }
 ],
 "metadata": {
  "kernelspec": {
   "display_name": "Python 3",
   "language": "python",
   "name": "python3"
  },
  "language_info": {
   "codemirror_mode": {
    "name": "ipython",
    "version": 3
   },
   "file_extension": ".py",
   "mimetype": "text/x-python",
   "name": "python",
   "nbconvert_exporter": "python",
   "pygments_lexer": "ipython3",
   "version": "3.7.3"
  }
 },
 "nbformat": 4,
 "nbformat_minor": 2
}
